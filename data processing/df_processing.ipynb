{
 "cells": [
  {
   "cell_type": "code",
   "execution_count": 3,
   "metadata": {},
   "outputs": [],
   "source": [
    "import pandas as pd\n",
    "import numpy as np\n",
    "import arrow as ar"
   ]
  },
  {
   "cell_type": "code",
   "execution_count": 4,
   "metadata": {},
   "outputs": [],
   "source": [
    "df = pd.read_csv(\"femme_radio_tele.csv\")"
   ]
  },
  {
   "cell_type": "code",
   "execution_count": 6,
   "metadata": {},
   "outputs": [
    {
     "data": {
      "text/plain": [
       "media_type                   0\n",
       "channel_code                 0\n",
       "channel_name                 0\n",
       "is_public_channel            0\n",
       "date                         0\n",
       "week_day                     0\n",
       "school_holiday_zones    636008\n",
       "civil_holyday                0\n",
       "hour                         0\n",
       "male_duration                0\n",
       "female_duration              0\n",
       "music_duration               0\n",
       "dtype: int64"
      ]
     },
     "execution_count": 6,
     "metadata": {},
     "output_type": "execute_result"
    }
   ],
   "source": [
    "df.isna().sum()"
   ]
  },
  {
   "cell_type": "markdown",
   "metadata": {},
   "source": [
    "On voit que les seuls valeurs nul sont celles des zones de vacances, en regardant le fichier nous voyant que en faites lorsque nous sommes pas en vacances la catégorie school_holidays_zones est vide"
   ]
  },
  {
   "cell_type": "code",
   "execution_count": 7,
   "metadata": {},
   "outputs": [],
   "source": [
    "df = df.replace({None:\"no_holiday\"})"
   ]
  },
  {
   "cell_type": "code",
   "execution_count": 8,
   "metadata": {},
   "outputs": [
    {
     "data": {
      "text/html": [
       "<div>\n",
       "<style scoped>\n",
       "    .dataframe tbody tr th:only-of-type {\n",
       "        vertical-align: middle;\n",
       "    }\n",
       "\n",
       "    .dataframe tbody tr th {\n",
       "        vertical-align: top;\n",
       "    }\n",
       "\n",
       "    .dataframe thead th {\n",
       "        text-align: right;\n",
       "    }\n",
       "</style>\n",
       "<table border=\"1\" class=\"dataframe\">\n",
       "  <thead>\n",
       "    <tr style=\"text-align: right;\">\n",
       "      <th></th>\n",
       "      <th>media_type</th>\n",
       "      <th>channel_code</th>\n",
       "      <th>channel_name</th>\n",
       "      <th>is_public_channel</th>\n",
       "      <th>date</th>\n",
       "      <th>week_day</th>\n",
       "      <th>school_holiday_zones</th>\n",
       "      <th>civil_holyday</th>\n",
       "      <th>hour</th>\n",
       "      <th>male_duration</th>\n",
       "      <th>female_duration</th>\n",
       "      <th>music_duration</th>\n",
       "    </tr>\n",
       "  </thead>\n",
       "  <tbody>\n",
       "  </tbody>\n",
       "</table>\n",
       "</div>"
      ],
      "text/plain": [
       "Empty DataFrame\n",
       "Columns: [media_type, channel_code, channel_name, is_public_channel, date, week_day, school_holiday_zones, civil_holyday, hour, male_duration, female_duration, music_duration]\n",
       "Index: []"
      ]
     },
     "execution_count": 8,
     "metadata": {},
     "output_type": "execute_result"
    }
   ],
   "source": [
    "df[df.isnull().any(axis=1)]"
   ]
  },
  {
   "cell_type": "code",
   "execution_count": 9,
   "metadata": {},
   "outputs": [],
   "source": [
    "df.drop(df[df.isnull().any(axis=1)].index,inplace=True)"
   ]
  },
  {
   "cell_type": "code",
   "execution_count": 10,
   "metadata": {},
   "outputs": [
    {
     "data": {
      "text/html": [
       "<div>\n",
       "<style scoped>\n",
       "    .dataframe tbody tr th:only-of-type {\n",
       "        vertical-align: middle;\n",
       "    }\n",
       "\n",
       "    .dataframe tbody tr th {\n",
       "        vertical-align: top;\n",
       "    }\n",
       "\n",
       "    .dataframe thead th {\n",
       "        text-align: right;\n",
       "    }\n",
       "</style>\n",
       "<table border=\"1\" class=\"dataframe\">\n",
       "  <thead>\n",
       "    <tr style=\"text-align: right;\">\n",
       "      <th></th>\n",
       "      <th>media_type</th>\n",
       "      <th>channel_code</th>\n",
       "      <th>channel_name</th>\n",
       "      <th>is_public_channel</th>\n",
       "      <th>date</th>\n",
       "      <th>week_day</th>\n",
       "      <th>school_holiday_zones</th>\n",
       "      <th>civil_holyday</th>\n",
       "      <th>hour</th>\n",
       "      <th>male_duration</th>\n",
       "      <th>female_duration</th>\n",
       "      <th>music_duration</th>\n",
       "    </tr>\n",
       "  </thead>\n",
       "  <tbody>\n",
       "  </tbody>\n",
       "</table>\n",
       "</div>"
      ],
      "text/plain": [
       "Empty DataFrame\n",
       "Columns: [media_type, channel_code, channel_name, is_public_channel, date, week_day, school_holiday_zones, civil_holyday, hour, male_duration, female_duration, music_duration]\n",
       "Index: []"
      ]
     },
     "execution_count": 10,
     "metadata": {},
     "output_type": "execute_result"
    }
   ],
   "source": [
    "df[df.isnull().any(axis=1)]"
   ]
  },
  {
   "cell_type": "code",
   "execution_count": 11,
   "metadata": {},
   "outputs": [
    {
     "data": {
      "text/plain": [
       "media_type              0\n",
       "channel_code            0\n",
       "channel_name            0\n",
       "is_public_channel       0\n",
       "date                    0\n",
       "week_day                0\n",
       "school_holiday_zones    0\n",
       "civil_holyday           0\n",
       "hour                    0\n",
       "male_duration           0\n",
       "female_duration         0\n",
       "music_duration          0\n",
       "dtype: int64"
      ]
     },
     "execution_count": 11,
     "metadata": {},
     "output_type": "execute_result"
    }
   ],
   "source": [
    "df.isna().sum()"
   ]
  },
  {
   "cell_type": "markdown",
   "metadata": {},
   "source": [
    "création d'une colonne avec le pourcentage de temps de parole "
   ]
  },
  {
   "cell_type": "code",
   "execution_count": 12,
   "metadata": {},
   "outputs": [],
   "source": [
    "column_h =df[\"male_duration\"]\n",
    "column_f =df[\"female_duration\"]\n",
    "column_m =df[\"music_duration\"]\n",
    "column_total = column_f+column_h+column_m\n",
    "column_pct_h = column_h/column_total\n",
    "column_pct_f = column_f/column_total\n",
    "column_pct_m = column_m/column_total"
   ]
  },
  {
   "cell_type": "code",
   "execution_count": 13,
   "metadata": {},
   "outputs": [],
   "source": [
    "df[\"male_percent\"] = column_pct_h\n",
    "df[\"female_percent\"] = column_pct_f\n",
    "df[\"music_percent\"] = column_pct_m"
   ]
  },
  {
   "cell_type": "code",
   "execution_count": 14,
   "metadata": {},
   "outputs": [],
   "source": [
    "df_radio = df.loc[df[\"media_type\"] == \"radio\"]\n",
    "df_tv = df.loc[df[\"media_type\"] == \"tv\"]"
   ]
  },
  {
   "cell_type": "code",
   "execution_count": 15,
   "metadata": {},
   "outputs": [
    {
     "data": {
      "text/plain": [
       "(636822, 15)"
      ]
     },
     "execution_count": 15,
     "metadata": {},
     "output_type": "execute_result"
    }
   ],
   "source": [
    "df_radio.shape"
   ]
  },
  {
   "cell_type": "code",
   "execution_count": 16,
   "metadata": {},
   "outputs": [
    {
     "data": {
      "text/plain": [
       "(441979, 15)"
      ]
     },
     "execution_count": 16,
     "metadata": {},
     "output_type": "execute_result"
    }
   ],
   "source": [
    "df_tv.shape"
   ]
  },
  {
   "cell_type": "code",
   "execution_count": 17,
   "metadata": {},
   "outputs": [
    {
     "data": {
      "text/plain": [
       "media_type              0\n",
       "channel_code            0\n",
       "channel_name            0\n",
       "is_public_channel       0\n",
       "date                    0\n",
       "week_day                0\n",
       "school_holiday_zones    0\n",
       "civil_holyday           0\n",
       "hour                    0\n",
       "male_duration           0\n",
       "female_duration         0\n",
       "music_duration          0\n",
       "male_percent            0\n",
       "female_percent          0\n",
       "music_percent           0\n",
       "dtype: int64"
      ]
     },
     "execution_count": 17,
     "metadata": {},
     "output_type": "execute_result"
    }
   ],
   "source": [
    "df_radio.isna().sum()"
   ]
  },
  {
   "cell_type": "code",
   "execution_count": 18,
   "metadata": {},
   "outputs": [
    {
     "data": {
      "text/plain": [
       "media_type              0\n",
       "channel_code            0\n",
       "channel_name            0\n",
       "is_public_channel       0\n",
       "date                    0\n",
       "week_day                0\n",
       "school_holiday_zones    0\n",
       "civil_holyday           0\n",
       "hour                    0\n",
       "male_duration           0\n",
       "female_duration         0\n",
       "music_duration          0\n",
       "male_percent            0\n",
       "female_percent          0\n",
       "music_percent           0\n",
       "dtype: int64"
      ]
     },
     "execution_count": 18,
     "metadata": {},
     "output_type": "execute_result"
    }
   ],
   "source": [
    "df_radio.isna().sum()"
   ]
  },
  {
   "cell_type": "code",
   "execution_count": 22,
   "metadata": {},
   "outputs": [
    {
     "data": {
      "text/plain": [
       "media_type               0\n",
       "channel_code             0\n",
       "channel_name             0\n",
       "is_public_channel        0\n",
       "date                     0\n",
       "week_day                 0\n",
       "school_holiday_zones     0\n",
       "civil_holyday            0\n",
       "hour                     0\n",
       "male_duration            0\n",
       "female_duration          0\n",
       "music_duration           0\n",
       "male_percent            15\n",
       "female_percent          15\n",
       "music_percent           15\n",
       "dtype: int64"
      ]
     },
     "execution_count": 22,
     "metadata": {},
     "output_type": "execute_result"
    }
   ],
   "source": [
    "df_tv.isna().sum()"
   ]
  },
  {
   "cell_type": "code",
   "execution_count": 32,
   "metadata": {},
   "outputs": [
    {
     "data": {
      "text/plain": [
       "array([ 669693,  669696,  706550,  706551,  727804,  727991,  856139,\n",
       "        856140,  856141,  859922,  859923,  869102,  925403, 1018728,\n",
       "       1018729], dtype=int64)"
      ]
     },
     "execution_count": 32,
     "metadata": {},
     "output_type": "execute_result"
    }
   ],
   "source": [
    "df_tv[df_tv.isnull().any(axis=1)].index.values\n"
   ]
  },
  {
   "cell_type": "markdown",
   "metadata": {},
   "source": [
    "on voit que, ces 15 lignes la n'ont pas de valeur pour le temps de paroles hommes, femmes et music donc pour ne pas fausser et vu que nous avons assez de valeur nous avons préféré les enlevés du dataframe"
   ]
  },
  {
   "cell_type": "code",
   "execution_count": 35,
   "metadata": {},
   "outputs": [
    {
     "data": {
      "text/html": [
       "<div>\n",
       "<style scoped>\n",
       "    .dataframe tbody tr th:only-of-type {\n",
       "        vertical-align: middle;\n",
       "    }\n",
       "\n",
       "    .dataframe tbody tr th {\n",
       "        vertical-align: top;\n",
       "    }\n",
       "\n",
       "    .dataframe thead th {\n",
       "        text-align: right;\n",
       "    }\n",
       "</style>\n",
       "<table border=\"1\" class=\"dataframe\">\n",
       "  <thead>\n",
       "    <tr style=\"text-align: right;\">\n",
       "      <th></th>\n",
       "      <th>media_type</th>\n",
       "      <th>channel_code</th>\n",
       "      <th>channel_name</th>\n",
       "      <th>is_public_channel</th>\n",
       "      <th>date</th>\n",
       "      <th>week_day</th>\n",
       "      <th>school_holiday_zones</th>\n",
       "      <th>civil_holyday</th>\n",
       "      <th>hour</th>\n",
       "      <th>male_duration</th>\n",
       "      <th>female_duration</th>\n",
       "      <th>music_duration</th>\n",
       "      <th>male_percent</th>\n",
       "      <th>female_percent</th>\n",
       "      <th>music_percent</th>\n",
       "    </tr>\n",
       "  </thead>\n",
       "  <tbody>\n",
       "    <tr>\n",
       "      <th>636822</th>\n",
       "      <td>tv</td>\n",
       "      <td>ART</td>\n",
       "      <td>ARTE</td>\n",
       "      <td>True</td>\n",
       "      <td>2010-01-01</td>\n",
       "      <td>Friday</td>\n",
       "      <td>ABC</td>\n",
       "      <td>True</td>\n",
       "      <td>12</td>\n",
       "      <td>829.06</td>\n",
       "      <td>371.28</td>\n",
       "      <td>2056.80</td>\n",
       "      <td>0.254536</td>\n",
       "      <td>0.113990</td>\n",
       "      <td>0.631474</td>\n",
       "    </tr>\n",
       "    <tr>\n",
       "      <th>636823</th>\n",
       "      <td>tv</td>\n",
       "      <td>ART</td>\n",
       "      <td>ARTE</td>\n",
       "      <td>True</td>\n",
       "      <td>2010-01-01</td>\n",
       "      <td>Friday</td>\n",
       "      <td>ABC</td>\n",
       "      <td>True</td>\n",
       "      <td>14</td>\n",
       "      <td>148.42</td>\n",
       "      <td>68.56</td>\n",
       "      <td>2993.40</td>\n",
       "      <td>0.046231</td>\n",
       "      <td>0.021356</td>\n",
       "      <td>0.932413</td>\n",
       "    </tr>\n",
       "    <tr>\n",
       "      <th>636824</th>\n",
       "      <td>tv</td>\n",
       "      <td>ART</td>\n",
       "      <td>ARTE</td>\n",
       "      <td>True</td>\n",
       "      <td>2010-01-01</td>\n",
       "      <td>Friday</td>\n",
       "      <td>ABC</td>\n",
       "      <td>True</td>\n",
       "      <td>18</td>\n",
       "      <td>1722.84</td>\n",
       "      <td>307.90</td>\n",
       "      <td>1238.96</td>\n",
       "      <td>0.526911</td>\n",
       "      <td>0.094168</td>\n",
       "      <td>0.378922</td>\n",
       "    </tr>\n",
       "    <tr>\n",
       "      <th>636825</th>\n",
       "      <td>tv</td>\n",
       "      <td>ART</td>\n",
       "      <td>ARTE</td>\n",
       "      <td>True</td>\n",
       "      <td>2010-01-01</td>\n",
       "      <td>Friday</td>\n",
       "      <td>ABC</td>\n",
       "      <td>True</td>\n",
       "      <td>21</td>\n",
       "      <td>2714.88</td>\n",
       "      <td>329.62</td>\n",
       "      <td>286.16</td>\n",
       "      <td>0.815118</td>\n",
       "      <td>0.098965</td>\n",
       "      <td>0.085917</td>\n",
       "    </tr>\n",
       "    <tr>\n",
       "      <th>636826</th>\n",
       "      <td>tv</td>\n",
       "      <td>ART</td>\n",
       "      <td>ARTE</td>\n",
       "      <td>True</td>\n",
       "      <td>2010-01-02</td>\n",
       "      <td>Saturday</td>\n",
       "      <td>ABC</td>\n",
       "      <td>False</td>\n",
       "      <td>11</td>\n",
       "      <td>1254.78</td>\n",
       "      <td>1243.14</td>\n",
       "      <td>1070.86</td>\n",
       "      <td>0.351599</td>\n",
       "      <td>0.348338</td>\n",
       "      <td>0.300063</td>\n",
       "    </tr>\n",
       "    <tr>\n",
       "      <th>...</th>\n",
       "      <td>...</td>\n",
       "      <td>...</td>\n",
       "      <td>...</td>\n",
       "      <td>...</td>\n",
       "      <td>...</td>\n",
       "      <td>...</td>\n",
       "      <td>...</td>\n",
       "      <td>...</td>\n",
       "      <td>...</td>\n",
       "      <td>...</td>\n",
       "      <td>...</td>\n",
       "      <td>...</td>\n",
       "      <td>...</td>\n",
       "      <td>...</td>\n",
       "      <td>...</td>\n",
       "    </tr>\n",
       "    <tr>\n",
       "      <th>1078796</th>\n",
       "      <td>tv</td>\n",
       "      <td>W9</td>\n",
       "      <td>W9</td>\n",
       "      <td>False</td>\n",
       "      <td>2019-02-28</td>\n",
       "      <td>Thursday</td>\n",
       "      <td>AC</td>\n",
       "      <td>False</td>\n",
       "      <td>19</td>\n",
       "      <td>1196.22</td>\n",
       "      <td>664.72</td>\n",
       "      <td>1699.22</td>\n",
       "      <td>0.336002</td>\n",
       "      <td>0.186711</td>\n",
       "      <td>0.477288</td>\n",
       "    </tr>\n",
       "    <tr>\n",
       "      <th>1078797</th>\n",
       "      <td>tv</td>\n",
       "      <td>W9</td>\n",
       "      <td>W9</td>\n",
       "      <td>False</td>\n",
       "      <td>2019-02-28</td>\n",
       "      <td>Thursday</td>\n",
       "      <td>AC</td>\n",
       "      <td>False</td>\n",
       "      <td>20</td>\n",
       "      <td>1080.24</td>\n",
       "      <td>826.96</td>\n",
       "      <td>1608.76</td>\n",
       "      <td>0.307239</td>\n",
       "      <td>0.235202</td>\n",
       "      <td>0.457559</td>\n",
       "    </tr>\n",
       "    <tr>\n",
       "      <th>1078798</th>\n",
       "      <td>tv</td>\n",
       "      <td>W9</td>\n",
       "      <td>W9</td>\n",
       "      <td>False</td>\n",
       "      <td>2019-02-28</td>\n",
       "      <td>Thursday</td>\n",
       "      <td>AC</td>\n",
       "      <td>False</td>\n",
       "      <td>21</td>\n",
       "      <td>2267.32</td>\n",
       "      <td>752.80</td>\n",
       "      <td>530.50</td>\n",
       "      <td>0.638570</td>\n",
       "      <td>0.212019</td>\n",
       "      <td>0.149411</td>\n",
       "    </tr>\n",
       "    <tr>\n",
       "      <th>1078799</th>\n",
       "      <td>tv</td>\n",
       "      <td>W9</td>\n",
       "      <td>W9</td>\n",
       "      <td>False</td>\n",
       "      <td>2019-02-28</td>\n",
       "      <td>Thursday</td>\n",
       "      <td>AC</td>\n",
       "      <td>False</td>\n",
       "      <td>22</td>\n",
       "      <td>2251.10</td>\n",
       "      <td>953.06</td>\n",
       "      <td>383.64</td>\n",
       "      <td>0.627432</td>\n",
       "      <td>0.265639</td>\n",
       "      <td>0.106929</td>\n",
       "    </tr>\n",
       "    <tr>\n",
       "      <th>1078800</th>\n",
       "      <td>tv</td>\n",
       "      <td>W9</td>\n",
       "      <td>W9</td>\n",
       "      <td>False</td>\n",
       "      <td>2019-02-28</td>\n",
       "      <td>Thursday</td>\n",
       "      <td>AC</td>\n",
       "      <td>False</td>\n",
       "      <td>23</td>\n",
       "      <td>1499.14</td>\n",
       "      <td>1181.94</td>\n",
       "      <td>781.54</td>\n",
       "      <td>0.432950</td>\n",
       "      <td>0.341343</td>\n",
       "      <td>0.225708</td>\n",
       "    </tr>\n",
       "  </tbody>\n",
       "</table>\n",
       "<p>441964 rows × 15 columns</p>\n",
       "</div>"
      ],
      "text/plain": [
       "        media_type channel_code channel_name  is_public_channel        date  \\\n",
       "636822          tv          ART         ARTE               True  2010-01-01   \n",
       "636823          tv          ART         ARTE               True  2010-01-01   \n",
       "636824          tv          ART         ARTE               True  2010-01-01   \n",
       "636825          tv          ART         ARTE               True  2010-01-01   \n",
       "636826          tv          ART         ARTE               True  2010-01-02   \n",
       "...            ...          ...          ...                ...         ...   \n",
       "1078796         tv           W9           W9              False  2019-02-28   \n",
       "1078797         tv           W9           W9              False  2019-02-28   \n",
       "1078798         tv           W9           W9              False  2019-02-28   \n",
       "1078799         tv           W9           W9              False  2019-02-28   \n",
       "1078800         tv           W9           W9              False  2019-02-28   \n",
       "\n",
       "         week_day school_holiday_zones  civil_holyday  hour  male_duration  \\\n",
       "636822     Friday                  ABC           True    12         829.06   \n",
       "636823     Friday                  ABC           True    14         148.42   \n",
       "636824     Friday                  ABC           True    18        1722.84   \n",
       "636825     Friday                  ABC           True    21        2714.88   \n",
       "636826   Saturday                  ABC          False    11        1254.78   \n",
       "...           ...                  ...            ...   ...            ...   \n",
       "1078796  Thursday                   AC          False    19        1196.22   \n",
       "1078797  Thursday                   AC          False    20        1080.24   \n",
       "1078798  Thursday                   AC          False    21        2267.32   \n",
       "1078799  Thursday                   AC          False    22        2251.10   \n",
       "1078800  Thursday                   AC          False    23        1499.14   \n",
       "\n",
       "         female_duration  music_duration  male_percent  female_percent  \\\n",
       "636822            371.28         2056.80      0.254536        0.113990   \n",
       "636823             68.56         2993.40      0.046231        0.021356   \n",
       "636824            307.90         1238.96      0.526911        0.094168   \n",
       "636825            329.62          286.16      0.815118        0.098965   \n",
       "636826           1243.14         1070.86      0.351599        0.348338   \n",
       "...                  ...             ...           ...             ...   \n",
       "1078796           664.72         1699.22      0.336002        0.186711   \n",
       "1078797           826.96         1608.76      0.307239        0.235202   \n",
       "1078798           752.80          530.50      0.638570        0.212019   \n",
       "1078799           953.06          383.64      0.627432        0.265639   \n",
       "1078800          1181.94          781.54      0.432950        0.341343   \n",
       "\n",
       "         music_percent  \n",
       "636822        0.631474  \n",
       "636823        0.932413  \n",
       "636824        0.378922  \n",
       "636825        0.085917  \n",
       "636826        0.300063  \n",
       "...                ...  \n",
       "1078796       0.477288  \n",
       "1078797       0.457559  \n",
       "1078798       0.149411  \n",
       "1078799       0.106929  \n",
       "1078800       0.225708  \n",
       "\n",
       "[441964 rows x 15 columns]"
      ]
     },
     "execution_count": 35,
     "metadata": {},
     "output_type": "execute_result"
    }
   ],
   "source": [
    "df_tv.drop(df_tv[df_tv.isnull().any(axis=1)].index.values,axis=0)"
   ]
  },
  {
   "cell_type": "code",
   "execution_count": 36,
   "metadata": {},
   "outputs": [
    {
     "data": {
      "text/plain": [
       "nan"
      ]
     },
     "execution_count": 36,
     "metadata": {},
     "output_type": "execute_result"
    }
   ],
   "source": [
    "df_tv[\"male_percent\"][669693]"
   ]
  },
  {
   "cell_type": "code",
   "execution_count": 37,
   "metadata": {},
   "outputs": [
    {
     "name": "stdout",
     "output_type": "stream",
     "text": [
      "21\n",
      "['Chérie FM' 'Europe 1' 'France Bleu' 'France Culture' 'France Info'\n",
      " 'France Inter' 'France Musique' 'Fun Radio' 'MOUV' 'NRJ' 'Nostalgie'\n",
      " 'RFI' 'RFM' 'RMC' 'RTL' 'RTL 2' 'Radio Classique' 'Rire et Chansons'\n",
      " 'Skyrock' 'Sud Radio' 'Virgin Radio']\n"
     ]
    }
   ],
   "source": [
    "print(len(df_radio[\"channel_name\"].unique()))\n",
    "print(df_radio[\"channel_name\"].unique())"
   ]
  },
  {
   "cell_type": "markdown",
   "metadata": {},
   "source": [
    "notre jeu de données possède 21 radio différentes"
   ]
  },
  {
   "cell_type": "code",
   "execution_count": 38,
   "metadata": {},
   "outputs": [
    {
     "name": "stdout",
     "output_type": "stream",
     "text": [
      "34\n",
      "['ARTE' 'Animaux' 'BFM TV' 'Canal+' 'Canal+ Sport' 'Chasse et pêche'\n",
      " 'Chérie 25' 'Comédie+' 'D8/C8' 'Euronews' 'Eurosport France' 'France 2'\n",
      " 'France 24' 'France 3' 'France 5' 'France O' 'Histoire' 'I-Télé/CNews'\n",
      " \"L'Equipe 21\" 'LCI' 'LCP/Public Sénat' 'La chaîne Météo' 'M6'\n",
      " 'Monte Carlo TMC' 'NRJ 12' 'Paris Première' 'Planète+' 'TF1' 'TV Breizh'\n",
      " 'TV5 Monde' \"Toute l'Histoire\" 'Téva' 'Voyage' 'W9']\n"
     ]
    }
   ],
   "source": [
    "print(len(df_tv[\"channel_name\"].unique()))\n",
    "print(df_tv[\"channel_name\"].unique())"
   ]
  },
  {
   "cell_type": "markdown",
   "metadata": {},
   "source": [
    "notre jeu de données possède 21 chaine télé différentes"
   ]
  },
  {
   "cell_type": "markdown",
   "metadata": {},
   "source": [
    "pour un soucis de géolocalisation nous créeons des colonnes one-hot-encoding pour pouvoir définir pour chaque heure du dataframe si il appartient à une zones de vacances comme ca nous pourrons définir le nombre d'heure ou les femmes on put parler  en fonction des zones de vacances"
   ]
  },
  {
   "cell_type": "code",
   "execution_count": 40,
   "metadata": {},
   "outputs": [
    {
     "data": {
      "text/plain": [
       "array(['ABC', 'no_holiday', 'B', 'AB', 'AC', 'C', 'BC', 'A'], dtype=object)"
      ]
     },
     "execution_count": 40,
     "metadata": {},
     "output_type": "execute_result"
    }
   ],
   "source": [
    "df[\"school_holiday_zones\"].unique()"
   ]
  },
  {
   "cell_type": "code",
   "execution_count": 41,
   "metadata": {},
   "outputs": [],
   "source": [
    "df[\"zone_A\"] = False\n",
    "df[\"zone_B\"] = False\n",
    "df[\"zone_C\"] = False"
   ]
  },
  {
   "cell_type": "code",
   "execution_count": 53,
   "metadata": {},
   "outputs": [],
   "source": [
    "df.loc[df.loc[df[\"school_holiday_zones\"] == \"ABC\"].index,\"zone_A\"] = True\n",
    "df.loc[df.loc[df[\"school_holiday_zones\"] == \"AC\"].index,\"zone_A\"] = True\n",
    "df.loc[df.loc[df[\"school_holiday_zones\"] == \"AB\"].index,\"zone_A\"] = True\n",
    "df.loc[df.loc[df[\"school_holiday_zones\"] == \"A\"].index,\"zone_A\"] = True \n",
    "\n",
    "df.loc[df.loc[df[\"school_holiday_zones\"] == \"ABC\"].index,\"zone_B\"] = True\n",
    "df.loc[df.loc[df[\"school_holiday_zones\"] == \"BC\"].index,\"zone_B\"] = True\n",
    "df.loc[df.loc[df[\"school_holiday_zones\"] == \"AB\"].index,\"zone_B\"] = True\n",
    "df.loc[df.loc[df[\"school_holiday_zones\"] == \"B\"].index,\"zone_B\"] = True \n",
    "\n",
    "df.loc[df.loc[df[\"school_holiday_zones\"] == \"ABC\"].index,\"zone_C\"] = True\n",
    "df.loc[df.loc[df[\"school_holiday_zones\"] == \"AC\"].index,\"zone_C\"] = True\n",
    "df.loc[df.loc[df[\"school_holiday_zones\"] == \"BC\"].index,\"zone_C\"] = True\n",
    "df.loc[df.loc[df[\"school_holiday_zones\"] == \"C\"].index,\"zone_C\"] = True "
   ]
  },
  {
   "cell_type": "code",
   "execution_count": 54,
   "metadata": {
    "scrolled": true
   },
   "outputs": [
    {
     "data": {
      "text/html": [
       "<div>\n",
       "<style scoped>\n",
       "    .dataframe tbody tr th:only-of-type {\n",
       "        vertical-align: middle;\n",
       "    }\n",
       "\n",
       "    .dataframe tbody tr th {\n",
       "        vertical-align: top;\n",
       "    }\n",
       "\n",
       "    .dataframe thead th {\n",
       "        text-align: right;\n",
       "    }\n",
       "</style>\n",
       "<table border=\"1\" class=\"dataframe\">\n",
       "  <thead>\n",
       "    <tr style=\"text-align: right;\">\n",
       "      <th></th>\n",
       "      <th>media_type</th>\n",
       "      <th>channel_code</th>\n",
       "      <th>channel_name</th>\n",
       "      <th>is_public_channel</th>\n",
       "      <th>date</th>\n",
       "      <th>week_day</th>\n",
       "      <th>school_holiday_zones</th>\n",
       "      <th>civil_holyday</th>\n",
       "      <th>hour</th>\n",
       "      <th>male_duration</th>\n",
       "      <th>female_duration</th>\n",
       "      <th>music_duration</th>\n",
       "      <th>male_percent</th>\n",
       "      <th>female_percent</th>\n",
       "      <th>music_percent</th>\n",
       "      <th>zone_A</th>\n",
       "      <th>zone_B</th>\n",
       "      <th>zone_C</th>\n",
       "    </tr>\n",
       "  </thead>\n",
       "  <tbody>\n",
       "    <tr>\n",
       "      <th>0</th>\n",
       "      <td>radio</td>\n",
       "      <td>CHE</td>\n",
       "      <td>Chérie FM</td>\n",
       "      <td>False</td>\n",
       "      <td>2001-01-01</td>\n",
       "      <td>Monday</td>\n",
       "      <td>ABC</td>\n",
       "      <td>True</td>\n",
       "      <td>5</td>\n",
       "      <td>224.34</td>\n",
       "      <td>191.86</td>\n",
       "      <td>3180.34</td>\n",
       "      <td>0.062377</td>\n",
       "      <td>0.053346</td>\n",
       "      <td>0.884278</td>\n",
       "      <td>True</td>\n",
       "      <td>True</td>\n",
       "      <td>True</td>\n",
       "    </tr>\n",
       "    <tr>\n",
       "      <th>1</th>\n",
       "      <td>radio</td>\n",
       "      <td>CHE</td>\n",
       "      <td>Chérie FM</td>\n",
       "      <td>False</td>\n",
       "      <td>2001-01-01</td>\n",
       "      <td>Monday</td>\n",
       "      <td>ABC</td>\n",
       "      <td>True</td>\n",
       "      <td>11</td>\n",
       "      <td>160.68</td>\n",
       "      <td>137.90</td>\n",
       "      <td>3297.08</td>\n",
       "      <td>0.044687</td>\n",
       "      <td>0.038352</td>\n",
       "      <td>0.916961</td>\n",
       "      <td>True</td>\n",
       "      <td>True</td>\n",
       "      <td>True</td>\n",
       "    </tr>\n",
       "    <tr>\n",
       "      <th>2</th>\n",
       "      <td>radio</td>\n",
       "      <td>CHE</td>\n",
       "      <td>Chérie FM</td>\n",
       "      <td>False</td>\n",
       "      <td>2001-01-01</td>\n",
       "      <td>Monday</td>\n",
       "      <td>ABC</td>\n",
       "      <td>True</td>\n",
       "      <td>13</td>\n",
       "      <td>124.20</td>\n",
       "      <td>168.28</td>\n",
       "      <td>3303.96</td>\n",
       "      <td>0.034534</td>\n",
       "      <td>0.046791</td>\n",
       "      <td>0.918675</td>\n",
       "      <td>True</td>\n",
       "      <td>True</td>\n",
       "      <td>True</td>\n",
       "    </tr>\n",
       "    <tr>\n",
       "      <th>3</th>\n",
       "      <td>radio</td>\n",
       "      <td>CHE</td>\n",
       "      <td>Chérie FM</td>\n",
       "      <td>False</td>\n",
       "      <td>2001-01-01</td>\n",
       "      <td>Monday</td>\n",
       "      <td>ABC</td>\n",
       "      <td>True</td>\n",
       "      <td>18</td>\n",
       "      <td>251.20</td>\n",
       "      <td>185.58</td>\n",
       "      <td>3156.34</td>\n",
       "      <td>0.069911</td>\n",
       "      <td>0.051649</td>\n",
       "      <td>0.878440</td>\n",
       "      <td>True</td>\n",
       "      <td>True</td>\n",
       "      <td>True</td>\n",
       "    </tr>\n",
       "    <tr>\n",
       "      <th>4</th>\n",
       "      <td>radio</td>\n",
       "      <td>CHE</td>\n",
       "      <td>Chérie FM</td>\n",
       "      <td>False</td>\n",
       "      <td>2001-01-02</td>\n",
       "      <td>Tuesday</td>\n",
       "      <td>ABC</td>\n",
       "      <td>False</td>\n",
       "      <td>6</td>\n",
       "      <td>550.76</td>\n",
       "      <td>223.60</td>\n",
       "      <td>2818.50</td>\n",
       "      <td>0.153293</td>\n",
       "      <td>0.062235</td>\n",
       "      <td>0.784473</td>\n",
       "      <td>True</td>\n",
       "      <td>True</td>\n",
       "      <td>True</td>\n",
       "    </tr>\n",
       "    <tr>\n",
       "      <th>...</th>\n",
       "      <td>...</td>\n",
       "      <td>...</td>\n",
       "      <td>...</td>\n",
       "      <td>...</td>\n",
       "      <td>...</td>\n",
       "      <td>...</td>\n",
       "      <td>...</td>\n",
       "      <td>...</td>\n",
       "      <td>...</td>\n",
       "      <td>...</td>\n",
       "      <td>...</td>\n",
       "      <td>...</td>\n",
       "      <td>...</td>\n",
       "      <td>...</td>\n",
       "      <td>...</td>\n",
       "      <td>...</td>\n",
       "      <td>...</td>\n",
       "      <td>...</td>\n",
       "    </tr>\n",
       "    <tr>\n",
       "      <th>1078796</th>\n",
       "      <td>tv</td>\n",
       "      <td>W9</td>\n",
       "      <td>W9</td>\n",
       "      <td>False</td>\n",
       "      <td>2019-02-28</td>\n",
       "      <td>Thursday</td>\n",
       "      <td>AC</td>\n",
       "      <td>False</td>\n",
       "      <td>19</td>\n",
       "      <td>1196.22</td>\n",
       "      <td>664.72</td>\n",
       "      <td>1699.22</td>\n",
       "      <td>0.336002</td>\n",
       "      <td>0.186711</td>\n",
       "      <td>0.477288</td>\n",
       "      <td>True</td>\n",
       "      <td>False</td>\n",
       "      <td>True</td>\n",
       "    </tr>\n",
       "    <tr>\n",
       "      <th>1078797</th>\n",
       "      <td>tv</td>\n",
       "      <td>W9</td>\n",
       "      <td>W9</td>\n",
       "      <td>False</td>\n",
       "      <td>2019-02-28</td>\n",
       "      <td>Thursday</td>\n",
       "      <td>AC</td>\n",
       "      <td>False</td>\n",
       "      <td>20</td>\n",
       "      <td>1080.24</td>\n",
       "      <td>826.96</td>\n",
       "      <td>1608.76</td>\n",
       "      <td>0.307239</td>\n",
       "      <td>0.235202</td>\n",
       "      <td>0.457559</td>\n",
       "      <td>True</td>\n",
       "      <td>False</td>\n",
       "      <td>True</td>\n",
       "    </tr>\n",
       "    <tr>\n",
       "      <th>1078798</th>\n",
       "      <td>tv</td>\n",
       "      <td>W9</td>\n",
       "      <td>W9</td>\n",
       "      <td>False</td>\n",
       "      <td>2019-02-28</td>\n",
       "      <td>Thursday</td>\n",
       "      <td>AC</td>\n",
       "      <td>False</td>\n",
       "      <td>21</td>\n",
       "      <td>2267.32</td>\n",
       "      <td>752.80</td>\n",
       "      <td>530.50</td>\n",
       "      <td>0.638570</td>\n",
       "      <td>0.212019</td>\n",
       "      <td>0.149411</td>\n",
       "      <td>True</td>\n",
       "      <td>False</td>\n",
       "      <td>True</td>\n",
       "    </tr>\n",
       "    <tr>\n",
       "      <th>1078799</th>\n",
       "      <td>tv</td>\n",
       "      <td>W9</td>\n",
       "      <td>W9</td>\n",
       "      <td>False</td>\n",
       "      <td>2019-02-28</td>\n",
       "      <td>Thursday</td>\n",
       "      <td>AC</td>\n",
       "      <td>False</td>\n",
       "      <td>22</td>\n",
       "      <td>2251.10</td>\n",
       "      <td>953.06</td>\n",
       "      <td>383.64</td>\n",
       "      <td>0.627432</td>\n",
       "      <td>0.265639</td>\n",
       "      <td>0.106929</td>\n",
       "      <td>True</td>\n",
       "      <td>False</td>\n",
       "      <td>True</td>\n",
       "    </tr>\n",
       "    <tr>\n",
       "      <th>1078800</th>\n",
       "      <td>tv</td>\n",
       "      <td>W9</td>\n",
       "      <td>W9</td>\n",
       "      <td>False</td>\n",
       "      <td>2019-02-28</td>\n",
       "      <td>Thursday</td>\n",
       "      <td>AC</td>\n",
       "      <td>False</td>\n",
       "      <td>23</td>\n",
       "      <td>1499.14</td>\n",
       "      <td>1181.94</td>\n",
       "      <td>781.54</td>\n",
       "      <td>0.432950</td>\n",
       "      <td>0.341343</td>\n",
       "      <td>0.225708</td>\n",
       "      <td>True</td>\n",
       "      <td>False</td>\n",
       "      <td>True</td>\n",
       "    </tr>\n",
       "  </tbody>\n",
       "</table>\n",
       "<p>1078801 rows × 18 columns</p>\n",
       "</div>"
      ],
      "text/plain": [
       "        media_type channel_code channel_name  is_public_channel        date  \\\n",
       "0            radio          CHE    Chérie FM              False  2001-01-01   \n",
       "1            radio          CHE    Chérie FM              False  2001-01-01   \n",
       "2            radio          CHE    Chérie FM              False  2001-01-01   \n",
       "3            radio          CHE    Chérie FM              False  2001-01-01   \n",
       "4            radio          CHE    Chérie FM              False  2001-01-02   \n",
       "...            ...          ...          ...                ...         ...   \n",
       "1078796         tv           W9           W9              False  2019-02-28   \n",
       "1078797         tv           W9           W9              False  2019-02-28   \n",
       "1078798         tv           W9           W9              False  2019-02-28   \n",
       "1078799         tv           W9           W9              False  2019-02-28   \n",
       "1078800         tv           W9           W9              False  2019-02-28   \n",
       "\n",
       "         week_day school_holiday_zones  civil_holyday  hour  male_duration  \\\n",
       "0          Monday                  ABC           True     5         224.34   \n",
       "1          Monday                  ABC           True    11         160.68   \n",
       "2          Monday                  ABC           True    13         124.20   \n",
       "3          Monday                  ABC           True    18         251.20   \n",
       "4         Tuesday                  ABC          False     6         550.76   \n",
       "...           ...                  ...            ...   ...            ...   \n",
       "1078796  Thursday                   AC          False    19        1196.22   \n",
       "1078797  Thursday                   AC          False    20        1080.24   \n",
       "1078798  Thursday                   AC          False    21        2267.32   \n",
       "1078799  Thursday                   AC          False    22        2251.10   \n",
       "1078800  Thursday                   AC          False    23        1499.14   \n",
       "\n",
       "         female_duration  music_duration  male_percent  female_percent  \\\n",
       "0                 191.86         3180.34      0.062377        0.053346   \n",
       "1                 137.90         3297.08      0.044687        0.038352   \n",
       "2                 168.28         3303.96      0.034534        0.046791   \n",
       "3                 185.58         3156.34      0.069911        0.051649   \n",
       "4                 223.60         2818.50      0.153293        0.062235   \n",
       "...                  ...             ...           ...             ...   \n",
       "1078796           664.72         1699.22      0.336002        0.186711   \n",
       "1078797           826.96         1608.76      0.307239        0.235202   \n",
       "1078798           752.80          530.50      0.638570        0.212019   \n",
       "1078799           953.06          383.64      0.627432        0.265639   \n",
       "1078800          1181.94          781.54      0.432950        0.341343   \n",
       "\n",
       "         music_percent  zone_A  zone_B  zone_C  \n",
       "0             0.884278    True    True    True  \n",
       "1             0.916961    True    True    True  \n",
       "2             0.918675    True    True    True  \n",
       "3             0.878440    True    True    True  \n",
       "4             0.784473    True    True    True  \n",
       "...                ...     ...     ...     ...  \n",
       "1078796       0.477288    True   False    True  \n",
       "1078797       0.457559    True   False    True  \n",
       "1078798       0.149411    True   False    True  \n",
       "1078799       0.106929    True   False    True  \n",
       "1078800       0.225708    True   False    True  \n",
       "\n",
       "[1078801 rows x 18 columns]"
      ]
     },
     "execution_count": 54,
     "metadata": {},
     "output_type": "execute_result"
    }
   ],
   "source": [
    "df"
   ]
  },
  {
   "cell_type": "markdown",
   "metadata": {},
   "source": [
    "sauvegarde des fichiers modifié pour réduire le tempss du programme principale en chargeant que dataset modifié en plus de séparé la date en trois colonnes séparé pour une utilisation plus simple dans le fichier dashboard"
   ]
  },
  {
   "cell_type": "code",
   "execution_count": null,
   "metadata": {},
   "outputs": [],
   "source": [
    "\n",
    "month = []\n",
    "day = []\n",
    "year = []\n",
    "\n",
    "for element in df[\"date\"]:\n",
    "    month.append(ar.get(element).month)\n",
    "    year.append(ar.get(element).year)\n",
    "    day.append(ar.get(element).day)\n",
    "\n",
    "df[\"month\"] = month\n",
    "df[\"day\"] = day\n",
    "df[\"year\"] = year\n",
    "\n",
    "df.to_csv(\"processed_data.csv\")"
   ]
  }
 ],
 "metadata": {
  "kernelspec": {
   "display_name": "Python 3",
   "language": "python",
   "name": "python3"
  },
  "language_info": {
   "codemirror_mode": {
    "name": "ipython",
    "version": 3
   },
   "file_extension": ".py",
   "mimetype": "text/x-python",
   "name": "python",
   "nbconvert_exporter": "python",
   "pygments_lexer": "ipython3",
   "version": "3.7.6"
  }
 },
 "nbformat": 4,
 "nbformat_minor": 4
}
